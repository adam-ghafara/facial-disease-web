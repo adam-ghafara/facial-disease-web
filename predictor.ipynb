{
 "cells": [
  {
   "cell_type": "code",
   "execution_count": 6,
   "metadata": {},
   "outputs": [],
   "source": [
    "# Import library for image prediction\n",
    "from keras.models import load_model\n",
    "from keras.preprocessing import image\n",
    "import numpy as np\n",
    "import sys\n",
    "import io\n",
    "from PIL import Image\n",
    "# Import File Dialog library\n",
    "from tkinter import filedialog\n",
    "from tkinter import *"
   ]
  },
  {
   "cell_type": "code",
   "execution_count": 7,
   "metadata": {},
   "outputs": [],
   "source": [
    "# Import model\n",
    "model = load_model('C:/Users/adamg/Desktop/AI AND DATASET/tugas besar/web/model/facial_disease_model.h5')"
   ]
  },
  {
   "cell_type": "code",
   "execution_count": 13,
   "metadata": {},
   "outputs": [
    {
     "name": "stdout",
     "output_type": "stream",
     "text": [
      "1/1 [==============================] - 0s 29ms/step\n",
      "Predicted disease:  Eksim\n",
      "1/1 [==============================] - 0s 28ms/step\n",
      "Eksim\n",
      "1/1 [==============================] - 0s 28ms/step\n",
      "Prediction accuracy:  [[2.5689420e-03 6.6589266e-01 3.0517060e-01 2.1891345e-04 2.6148837e-02]]\n",
      "1/1 [==============================] - ETA: 0s"
     ]
    },
    {
     "name": "stderr",
     "output_type": "stream",
     "text": [
      "C:\\Users\\adamg\\AppData\\Local\\Temp\\ipykernel_2052\\4122752750.py:14: DeprecationWarning: Conversion of an array with ndim > 0 to a scalar is deprecated, and will error in future. Ensure you extract a single element from your array before performing this operation. (Deprecated NumPy 1.25.)\n",
      "  a = int(np.argmax(prediction, axis=1))\n"
     ]
    },
    {
     "name": "stdout",
     "output_type": "stream",
     "text": [
      "1/1 [==============================] - 0s 27ms/step\n",
      "[[2.5689420e-03 6.6589266e-01 3.0517060e-01 2.1891345e-04 2.6148837e-02]]\n"
     ]
    }
   ],
   "source": [
    "# Load image\n",
    "root = Tk()\n",
    "root.filename =  filedialog.askopenfilename(initialdir = \"/\",title = \"Select file\",filetypes = ((\"jpeg files\",\"*.jpg\"),(\"all files\",\"*.*\")))\n",
    "img_path = root.filename\n",
    "img = image.load_img(img_path, target_size=(244, 244))\n",
    "\n",
    "def predict(img):\n",
    "    # resize the image\n",
    "    img = image.img_to_array(img)\n",
    "    img = np.expand_dims(img, axis=0)\n",
    "    img = img/255\n",
    "    # predict the image\n",
    "    prediction = model.predict(img)\n",
    "    a = int(np.argmax(prediction, axis=1))\n",
    "    if a == 0:\n",
    "        return \"Acne\"\n",
    "    elif a == 1:\n",
    "        return \"Eksim\"\n",
    "    elif a == 2:\n",
    "        return \"Herpes\"\n",
    "    elif a == 3:\n",
    "        return \"Panu\"\n",
    "    elif a == 4:\n",
    "        return \"Rosacea\"\n",
    "    \n",
    "def predict_accuracy(img):\n",
    "    # resize the image\n",
    "    img = image.img_to_array(img)\n",
    "    img = np.expand_dims(img, axis=0)\n",
    "    img = img/255\n",
    "    # predict the image\n",
    "    prediction = model.predict(img)\n",
    "    return prediction\n",
    "    \n",
    "# Print the result\n",
    "print(\"Predicted disease: \", predict(img))\n",
    "print(predict(img))\n",
    "# Print the accuracy\n",
    "print(\"Prediction accuracy: \", predict_accuracy(img))\n",
    "print(predict_accuracy(img))\n",
    "\n",
    "# Close the root\n",
    "root.destroy()"
   ]
  },
  {
   "cell_type": "code",
   "execution_count": 11,
   "metadata": {},
   "outputs": [],
   "source": [
    "root.destroy()"
   ]
  }
 ],
 "metadata": {
  "kernelspec": {
   "display_name": "Python 3",
   "language": "python",
   "name": "python3"
  },
  "language_info": {
   "codemirror_mode": {
    "name": "ipython",
    "version": 3
   },
   "file_extension": ".py",
   "mimetype": "text/x-python",
   "name": "python",
   "nbconvert_exporter": "python",
   "pygments_lexer": "ipython3",
   "version": "3.11.4"
  }
 },
 "nbformat": 4,
 "nbformat_minor": 2
}
