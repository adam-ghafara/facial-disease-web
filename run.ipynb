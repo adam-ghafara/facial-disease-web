{
 "cells": [
  {
   "cell_type": "code",
   "execution_count": null,
   "metadata": {},
   "outputs": [],
   "source": [
    "# Import Flask\n",
    "from flask import Flask, request, render_template\n",
    "from keras.models import load_model\n",
    "from keras.preprocessing.image import img_to_array\n",
    "from PIL import Image\n",
    "import numpy as np\n",
    "import io\n",
    "\n",
    "app = Flask(__name__)\n",
    "\n",
    "# Load the model\n",
    "model = load_model('C:\\Users\\adamg\\Desktop\\AI AND DATASET\\tugas besar\\facial disease\\facial_disease_model.h5')\n",
    "\n",
    "class_names = ['Acne', 'Eksim', 'Herpes', 'Panu', 'Rosacea']\n",
    "\n",
    "def prepare_image(image, target):\n",
    "    image = image.resize(target)\n",
    "    image = img_to_array(image)\n",
    "    image = np.expand_dims(image, axis=0)\n",
    "    return image\n",
    "\n",
    "@app.route('/', methods=['GET', 'POST'])\n",
    "def index():\n",
    "    if request.method == 'POST':\n",
    "        file = request.files['file']\n",
    "        if file:\n",
    "            # Read the image file and convert it to jpg\n",
    "            image = Image.open(io.BytesIO(file.read()))\n",
    "            # Prepare the image\n",
    "            image = prepare_image(image, target=(224, 224))\n",
    "            # Resample the image\n",
    "            image = np.array(image) / 255.0\n",
    "            # Make prediction\n",
    "            preds = model.predict(image)\n",
    "            # Get the class with the highest probability\n",
    "            prediction_label = class_names[np.argmax(preds)]\n",
    "            return render_template('index.html', preds=prediction_label)\n",
    "    return render_template('index.html')\n",
    "\n",
    "if __name__ == '__main__':\n",
    "    app.run(debug=True)"
   ]
  }
 ],
 "metadata": {
  "language_info": {
   "name": "python"
  }
 },
 "nbformat": 4,
 "nbformat_minor": 2
}
